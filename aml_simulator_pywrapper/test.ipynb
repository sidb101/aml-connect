{
 "cells": [
  {
   "cell_type": "code",
   "execution_count": 1,
   "metadata": {},
   "outputs": [],
   "source": [
    "# %pip install aspinity-0.7.2-cp38-abi3-manylinux_2_17_x86_64.manylinux2014_x86_64.whl"
   ]
  },
  {
   "cell_type": "code",
   "execution_count": 2,
   "metadata": {},
   "outputs": [],
   "source": [
    "import aspinity\n",
    "import json\n",
    "import os\n",
    "import numpy as np\n",
    "import soundfile as sf\n",
    "import importlib"
   ]
  },
  {
   "cell_type": "code",
   "execution_count": 3,
   "metadata": {},
   "outputs": [],
   "source": [
    "network_json = None\n",
    "with open('test_network.json', 'r') as f:\n",
    "    network_json = json.load(f)\n",
    "filter_json = network_json['elements'][1]\n",
    "terminal_json = network_json['elements'][0]"
   ]
  },
  {
   "cell_type": "code",
   "execution_count": 4,
   "metadata": {},
   "outputs": [],
   "source": [
    "import wrapper_components"
   ]
  },
  {
   "cell_type": "code",
   "execution_count": 5,
   "metadata": {},
   "outputs": [
    {
     "data": {
      "text/plain": [
       "{'element_type': 'Filter',\n",
       " 'terminals': {'input': 'in', 'output': 'filter_out'},\n",
       " 'parameters': {'characteristic_frequency': 1000.0,\n",
       "  'quality_factor': 1.0,\n",
       "  'filter_type': FilterType.bpf2}}"
      ]
     },
     "execution_count": 5,
     "metadata": {},
     "output_type": "execute_result"
    }
   ],
   "source": [
    "filter1 = wrapper_components.Filter(filter_json)\n",
    "filter1.as_dict()"
   ]
  },
  {
   "cell_type": "code",
   "execution_count": 6,
   "metadata": {},
   "outputs": [
    {
     "data": {
      "text/plain": [
       "({'element_type': 'Terminal',\n",
       "  'terminals': {'net': 'in'},\n",
       "  'parameters': {'is_input': True,\n",
       "   'is_output': False,\n",
       "   'hardware_pin': 'A0',\n",
       "   'is_ac_coupled': False,\n",
       "   'is_extern': False}},\n",
       " {'id': 100,\n",
       "  'parent_network_id': 5000,\n",
       "  'type_name': 'Terminal',\n",
       "  'element_type_params': {'Terminal': {'hardware_pin': 'A0',\n",
       "    'is_input': True,\n",
       "    'is_output': False,\n",
       "    'is_ac_coupled': None,\n",
       "    'is_extern': None}},\n",
       "  'terminals': [{'id': 1,\n",
       "    'parent_element_id': 100,\n",
       "    'type_name': 'net',\n",
       "    'node_name': 'in'}],\n",
       "  'position': {'x': 0, 'y': 0}})"
      ]
     },
     "execution_count": 6,
     "metadata": {},
     "output_type": "execute_result"
    }
   ],
   "source": [
    "term1 = wrapper_components.Terminal(terminal_json)\n",
    "term1.as_dict(), terminal_json"
   ]
  },
  {
   "cell_type": "code",
   "execution_count": 7,
   "metadata": {},
   "outputs": [],
   "source": [
    "import wrapper_network"
   ]
  },
  {
   "cell_type": "code",
   "execution_count": 8,
   "metadata": {},
   "outputs": [
    {
     "data": {
      "text/plain": [
       "aspinity.native.ReleaseNetwork"
      ]
     },
     "execution_count": 8,
     "metadata": {},
     "output_type": "execute_result"
    }
   ],
   "source": [
    "net1 = wrapper_network.Network(network_json)\n",
    "type(net1.orig_network)"
   ]
  },
  {
   "cell_type": "code",
   "execution_count": 9,
   "metadata": {},
   "outputs": [
    {
     "data": {
      "text/plain": [
       "{'element_imports': ['Terminal', 'Filter', 'Terminal'],\n",
       " 'elements': [{'element_type': 'Terminal',\n",
       "   'terminals': {'net': 'in'},\n",
       "   'parameters': {'is_input': True,\n",
       "    'is_output': False,\n",
       "    'hardware_pin': 'A0',\n",
       "    'is_ac_coupled': False,\n",
       "    'is_extern': False}},\n",
       "  {'element_type': 'Filter',\n",
       "   'terminals': {'input': 'in', 'output': 'filter_out'},\n",
       "   'parameters': {'characteristic_frequency': 1000.0,\n",
       "    'quality_factor': 1.0,\n",
       "    'filter_type': FilterType.bpf2}},\n",
       "  {'element_type': 'Terminal',\n",
       "   'terminals': {'net': 'out'},\n",
       "   'parameters': {'is_input': False,\n",
       "    'is_output': True,\n",
       "    'hardware_pin': 'D0',\n",
       "    'is_ac_coupled': False,\n",
       "    'is_extern': False}}]}"
      ]
     },
     "execution_count": 9,
     "metadata": {},
     "output_type": "execute_result"
    }
   ],
   "source": [
    "net1.export_context()"
   ]
  },
  {
   "cell_type": "code",
   "execution_count": 10,
   "metadata": {},
   "outputs": [
    {
     "data": {
      "text/plain": [
       "'\\n\\n# !/usr/bin/python3\\nfrom aspinity import Network, simulate\\nimport soundfile as sf\\nimport numpy as np\\nfrom aspinity import (\\n    Terminal,\\n\\tFilter,\\n\\tTerminal,\\n)\\n\\ndef load_wav():\\n    samples, sample_rate = sf.read()\\n    times = np.arange(len(samples)) / sample_rate\\n    return times, samples\\n\\nnewtork = Network()\\nnetwork.add(\\n    Terminal(\\n        net = \"in\",\\n\\t\\tis_input = True,\\n\\t\\tis_output = False,\\n\\t\\thardware_pin = \"A0\",\\n\\t\\tis_ac_coupled = False,\\n\\t\\tis_extern = False,\\n\\t),\\n\\tFilter(\\n        input = \"in\",\\n\\t\\toutput = \"filter_out\",\\n\\t\\tcharacteristic_frequency = 1000.0,\\n\\t\\tquality_factor = 1.0,\\n\\t\\tfilter_type = FilterType.bpf2,\\n\\t),\\n\\tTerminal(\\n        net = \"out\",\\n\\t\\tis_input = False,\\n\\t\\tis_output = True,\\n\\t\\thardware_pin = \"D0\",\\n\\t\\tis_ac_coupled = False,\\n\\t\\tis_extern = False,\\n\\t),\\n)\\n\\ntimes, samples = load_wav()\\nres = simulate(network, times, samples)'"
      ]
     },
     "execution_count": 10,
     "metadata": {},
     "output_type": "execute_result"
    }
   ],
   "source": [
    "net1.export_sourcecode()"
   ]
  },
  {
   "cell_type": "code",
   "execution_count": 11,
   "metadata": {},
   "outputs": [],
   "source": [
    "# net1.orig_network.input_terminal_names, net1.orig_network.output_terminal_names, net1.orig_network.children"
   ]
  },
  {
   "cell_type": "code",
   "execution_count": 12,
   "metadata": {},
   "outputs": [],
   "source": [
    "# wav_file = '/home/sbhatna2/Music/rising-chirp.wav'\n",
    "# times, samples = wrapper_network.WavFileManager.load_wav(wav_file)"
   ]
  },
  {
   "cell_type": "code",
   "execution_count": 13,
   "metadata": {},
   "outputs": [],
   "source": [
    "# result = aspinity.simulate(net1.orig_network, times, samples)\n",
    "# print(*result.items(), sep = '\\n')\n",
    "# print(result['filter_out'].shape)"
   ]
  }
 ],
 "metadata": {
  "kernelspec": {
   "display_name": ".venv",
   "language": "python",
   "name": "python3"
  },
  "language_info": {
   "codemirror_mode": {
    "name": "ipython",
    "version": 3
   },
   "file_extension": ".py",
   "mimetype": "text/x-python",
   "name": "python",
   "nbconvert_exporter": "python",
   "pygments_lexer": "ipython3",
   "version": "3.10.12"
  },
  "orig_nbformat": 4
 },
 "nbformat": 4,
 "nbformat_minor": 2
}
