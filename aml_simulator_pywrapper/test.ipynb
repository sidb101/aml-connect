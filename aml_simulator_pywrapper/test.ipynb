{
 "cells": [
  {
   "cell_type": "code",
   "execution_count": 1,
   "metadata": {},
   "outputs": [],
   "source": [
    "# %pip install aspinity-0.7.2-cp38-abi3-manylinux_2_17_x86_64.manylinux2014_x86_64.whl"
   ]
  },
  {
   "cell_type": "code",
   "execution_count": 2,
   "metadata": {},
   "outputs": [],
   "source": [
    "import aspinity\n",
    "import json\n",
    "import os\n",
    "import numpy as np\n",
    "import soundfile as sf\n",
    "import importlib"
   ]
  },
  {
   "cell_type": "code",
   "execution_count": 3,
   "metadata": {},
   "outputs": [],
   "source": [
    "network_json = None\n",
    "with open('test_network.json', 'r') as f:\n",
    "    network_json = json.load(f)\n",
    "filter_json = network_json['elements'][1]\n",
    "terminal_json = network_json['elements'][0]"
   ]
  },
  {
   "cell_type": "code",
   "execution_count": 4,
   "metadata": {},
   "outputs": [],
   "source": [
    "import wrapper_components"
   ]
  },
  {
   "cell_type": "code",
   "execution_count": 5,
   "metadata": {},
   "outputs": [
    {
     "data": {
      "text/plain": [
       "{'element_type': 'Filter',\n",
       " 'terminals': {'input': 'in', 'output': 'filter_out'},\n",
       " 'parameters': {'characteristic_frequency': 1000.0,\n",
       "  'quality_factor': 1.0,\n",
       "  'filter_type': 'FilterType.bpf2'}}"
      ]
     },
     "execution_count": 5,
     "metadata": {},
     "output_type": "execute_result"
    }
   ],
   "source": [
    "filter1 = wrapper_components.Filter(filter_json)\n",
    "filter1.as_dict()"
   ]
  },
  {
   "cell_type": "code",
   "execution_count": 6,
   "metadata": {},
   "outputs": [
    {
     "data": {
      "text/plain": [
       "({'element_type': 'Terminal',\n",
       "  'terminals': {'net': 'in'},\n",
       "  'parameters': {'is_input': True,\n",
       "   'is_output': False,\n",
       "   'hardware_pin': 'A0',\n",
       "   'is_ac_coupled': False,\n",
       "   'is_extern': False}},\n",
       " {'id': 100,\n",
       "  'parent_network_id': 5000,\n",
       "  'type_name': 'Terminal',\n",
       "  'element_type_params': {'Terminal': {'hardware_pin': 'A0',\n",
       "    'is_input': True,\n",
       "    'is_output': False,\n",
       "    'is_ac_coupled': None,\n",
       "    'is_extern': None}},\n",
       "  'terminals': [{'id': 1,\n",
       "    'parent_element_id': 100,\n",
       "    'type_name': 'net',\n",
       "    'node_name': 'in'}],\n",
       "  'position': {'x': 0, 'y': 0}})"
      ]
     },
     "execution_count": 6,
     "metadata": {},
     "output_type": "execute_result"
    }
   ],
   "source": [
    "term1 = wrapper_components.Terminal(terminal_json)\n",
    "term1.as_dict(), terminal_json"
   ]
  },
  {
   "cell_type": "code",
   "execution_count": 7,
   "metadata": {},
   "outputs": [],
   "source": [
    "import wrapper_network"
   ]
  },
  {
   "cell_type": "code",
   "execution_count": 8,
   "metadata": {},
   "outputs": [],
   "source": [
    "net1 = wrapper_network.Network(network_json)"
   ]
  },
  {
   "cell_type": "code",
   "execution_count": 9,
   "metadata": {},
   "outputs": [
    {
     "data": {
      "text/plain": [
       "({'in_in_A0': True},\n",
       " {'out_out_D0': True},\n",
       " {'FilterNetwork_0': <aspinity.native.FilterNetwork at 0x7f26ac649cf0>})"
      ]
     },
     "execution_count": 9,
     "metadata": {},
     "output_type": "execute_result"
    }
   ],
   "source": [
    "net1.input_terminal_names,net1.output_terminal_names,net1.children"
   ]
  },
  {
   "cell_type": "code",
   "execution_count": 10,
   "metadata": {},
   "outputs": [],
   "source": [
    "wav_file = '/home/sbhatna2/Music/rising-chirp.wav'\n",
    "times, samples = wrapper_network.WavFileManager.load_wav(wav_file)"
   ]
  },
  {
   "cell_type": "code",
   "execution_count": 11,
   "metadata": {},
   "outputs": [
    {
     "name": "stdout",
     "output_type": "stream",
     "text": [
      "('vdd', array([2.5, 2.5, 2.5, 2.5, 2.5]))\n",
      "('filter_out_hpf', array([0., 0., 0., 0., 0.]))\n",
      "('mid', array([0., 0., 0., 0., 0.]))\n",
      "('', array([0., 0., 0., ..., 0., 0., 0.]))\n",
      "('_lpf_pre_compress', array([0., 0., 0., 0., 0.]))\n",
      "('in', array([-0.07403564, -0.09246826, -0.0743103 , -0.05447388, -0.03656006]))\n",
      "('Gnd', array([0., 0., 0., ..., 0., 0., 0.]))\n",
      "('filter_out_pre_compress', array([0.03292748, 0.06586092, 0.0890397 , 0.09819746, 0.092224  ]))\n",
      "('filter_out_bpf', array([-0.06586092, -0.0890397 , -0.09819746, -0.092224  , -0.07059221]))\n",
      "('out', array([0., 0., 0., ..., 0., 0., 0.]))\n",
      "('filter_out', array([-0.00187511,  0.0317869 ,  0.05774371,  0.07115898,  0.07539194]))\n"
     ]
    }
   ],
   "source": [
    "result = aspinity.simulate(net1, times, samples)\n",
    "print(*result.items(), sep = '\\n')\n",
    "# print(result['filter_out'].shape)"
   ]
  },
  {
   "cell_type": "code",
   "execution_count": null,
   "metadata": {},
   "outputs": [],
   "source": []
  }
 ],
 "metadata": {
  "kernelspec": {
   "display_name": ".venv",
   "language": "python",
   "name": "python3"
  },
  "language_info": {
   "codemirror_mode": {
    "name": "ipython",
    "version": 3
   },
   "file_extension": ".py",
   "mimetype": "text/x-python",
   "name": "python",
   "nbconvert_exporter": "python",
   "pygments_lexer": "ipython3",
   "version": "3.10.12"
  },
  "orig_nbformat": 4
 },
 "nbformat": 4,
 "nbformat_minor": 2
}
