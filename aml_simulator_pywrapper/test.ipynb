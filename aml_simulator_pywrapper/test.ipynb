{
 "cells": [
  {
   "cell_type": "code",
   "execution_count": 1,
   "metadata": {},
   "outputs": [],
   "source": [
    "# %pip install aspinity-0.7.2-cp38-abi3-manylinux_2_17_x86_64.manylinux2014_x86_64.whl"
   ]
  },
  {
   "cell_type": "code",
   "execution_count": 2,
   "metadata": {},
   "outputs": [],
   "source": [
    "import aspinity\n",
    "import json\n",
    "import os\n",
    "import numpy as np\n",
    "import soundfile as sf\n",
    "import importlib"
   ]
  },
  {
   "cell_type": "code",
   "execution_count": 3,
   "metadata": {},
   "outputs": [],
   "source": [
    "network_json = None\n",
    "with open('test_network.json', 'r') as f:\n",
    "    network_json = json.load(f)\n",
    "filter_json = network_json['elements'][1]\n",
    "terminal_json = network_json['elements'][0]"
   ]
  },
  {
   "cell_type": "code",
   "execution_count": 4,
   "metadata": {},
   "outputs": [],
   "source": [
    "import wrapper_components"
   ]
  },
  {
   "cell_type": "code",
   "execution_count": 5,
   "metadata": {},
   "outputs": [
    {
     "data": {
      "text/plain": [
       "{'element_type': 'Filter',\n",
       " 'terminals': {'input': 'in', 'output': 'filter_out'},\n",
       " 'parameters': {'characteristic_frequency': 1000.0,\n",
       "  'quality_factor': 1.0,\n",
       "  'filter_type': 'FilterType.bpf2'}}"
      ]
     },
     "execution_count": 5,
     "metadata": {},
     "output_type": "execute_result"
    }
   ],
   "source": [
    "filter1 = wrapper_components.Filter(json.dumps(filter_json))\n",
    "filter1.as_dict()"
   ]
  },
  {
   "cell_type": "code",
   "execution_count": 6,
   "metadata": {},
   "outputs": [
    {
     "data": {
      "text/plain": [
       "({'element_type': 'Terminal',\n",
       "  'terminals': {'net': 'in'},\n",
       "  'parameters': {'is_input': True,\n",
       "   'is_output': False,\n",
       "   'hardware_pin': 'A0',\n",
       "   'is_ac_coupled': False,\n",
       "   'is_extern': False}},\n",
       " {'id': 100,\n",
       "  'parent_network_id': 5000,\n",
       "  'type_name': 'Terminal',\n",
       "  'element_type_params': {'Terminal': {'hardware_pin': 'A0',\n",
       "    'is_input': True,\n",
       "    'is_output': False,\n",
       "    'is_ac_coupled': None,\n",
       "    'is_extern': None}},\n",
       "  'terminals': [{'id': 1,\n",
       "    'parent_element_id': 100,\n",
       "    'type_name': 'net',\n",
       "    'node_name': 'in'}],\n",
       "  'position': {'x': 0, 'y': 0}})"
      ]
     },
     "execution_count": 6,
     "metadata": {},
     "output_type": "execute_result"
    }
   ],
   "source": [
    "term1 = wrapper_components.Terminal(json.dumps(terminal_json))\n",
    "term1.as_dict(), json.loads(json.dumps(terminal_json))"
   ]
  },
  {
   "cell_type": "code",
   "execution_count": 7,
   "metadata": {},
   "outputs": [],
   "source": [
    "import wrapper_network"
   ]
  },
  {
   "cell_type": "code",
   "execution_count": 8,
   "metadata": {},
   "outputs": [],
   "source": [
    "net1 = wrapper_network.Network(json.dumps(network_json))"
   ]
  },
  {
   "cell_type": "code",
   "execution_count": 9,
   "metadata": {},
   "outputs": [
    {
     "data": {
      "text/plain": [
       "({'in_in_A0': True},\n",
       " {'out_out_D0': True},\n",
       " {'Filter_0': <wrapper_components.Filter at 0x7f982076cdc0>})"
      ]
     },
     "execution_count": 9,
     "metadata": {},
     "output_type": "execute_result"
    }
   ],
   "source": [
    "net1.input_terminal_names,net1.output_terminal_names,net1.children"
   ]
  },
  {
   "cell_type": "code",
   "execution_count": 10,
   "metadata": {},
   "outputs": [],
   "source": [
    "wav_file = '/home/sbhatna2/Music/rising-chirp.wav'\n",
    "times, samples = wrapper_network.WavFileManager.load_wav(wav_file)"
   ]
  },
  {
   "cell_type": "code",
   "execution_count": 11,
   "metadata": {},
   "outputs": [
    {
     "name": "stderr",
     "output_type": "stream",
     "text": [
      "thread '<unnamed>' panicked at 'called `Result::unwrap()` on an `Err` value: PyErr { type: <class 'TypeError'>, value: TypeError(\"'Filter' object cannot be converted to 'Filter'\"), traceback: None }', src/release_network.rs:68:49\n",
      "note: run with `RUST_BACKTRACE=1` environment variable to display a backtrace\n"
     ]
    },
    {
     "ename": "PanicException",
     "evalue": "called `Result::unwrap()` on an `Err` value: PyErr { type: <class 'TypeError'>, value: TypeError(\"'Filter' object cannot be converted to 'Filter'\"), traceback: None }",
     "output_type": "error",
     "traceback": [
      "\u001b[0;31m---------------------------------------------------------------------------\u001b[0m",
      "\u001b[0;31mPanicException\u001b[0m                            Traceback (most recent call last)",
      "\u001b[1;32m/home/sbhatna2/workspace/aml-connect/aml_simulator_pywrapper/test.ipynb Cell 11\u001b[0m line \u001b[0;36m1\n\u001b[0;32m----> <a href='vscode-notebook-cell:/home/sbhatna2/workspace/aml-connect/aml_simulator_pywrapper/test.ipynb#X21sZmlsZQ%3D%3D?line=0'>1</a>\u001b[0m result \u001b[39m=\u001b[39m aspinity\u001b[39m.\u001b[39;49msimulate(net1, times, samples)\n\u001b[1;32m      <a href='vscode-notebook-cell:/home/sbhatna2/workspace/aml-connect/aml_simulator_pywrapper/test.ipynb#X21sZmlsZQ%3D%3D?line=1'>2</a>\u001b[0m \u001b[39mprint\u001b[39m(result[\u001b[39m\"\u001b[39m\u001b[39mout\u001b[39m\u001b[39m\"\u001b[39m])\n",
      "File \u001b[0;32m~/workspace/aml-connect/.venv/lib/python3.10/site-packages/aspinity/release/simulate.py:16\u001b[0m, in \u001b[0;36msimulate\u001b[0;34m(models, t, s)\u001b[0m\n\u001b[1;32m     10\u001b[0m     s \u001b[39m=\u001b[39m np\u001b[39m.\u001b[39mreshape(s, (\u001b[39m-\u001b[39m\u001b[39m1\u001b[39m, s\u001b[39m.\u001b[39mshape[\u001b[39m0\u001b[39m]))\n\u001b[1;32m     12\u001b[0m input_matrix \u001b[39m=\u001b[39m np\u001b[39m.\u001b[39mtranspose(s)\n\u001b[1;32m     14\u001b[0m \u001b[39mreturn\u001b[39;00m {\n\u001b[1;32m     15\u001b[0m     net: np\u001b[39m.\u001b[39marray(node)\n\u001b[0;32m---> 16\u001b[0m     \u001b[39mfor\u001b[39;00m net, node \u001b[39min\u001b[39;00m simulate_network(\n\u001b[1;32m     17\u001b[0m         models, input_matrix \u001b[39m*\u001b[39;49m wav_scale, sample_rate\n\u001b[1;32m     18\u001b[0m     )\u001b[39m.\u001b[39mitems()\n\u001b[1;32m     19\u001b[0m }\n",
      "\u001b[0;31mPanicException\u001b[0m: called `Result::unwrap()` on an `Err` value: PyErr { type: <class 'TypeError'>, value: TypeError(\"'Filter' object cannot be converted to 'Filter'\"), traceback: None }"
     ]
    }
   ],
   "source": [
    "result = aspinity.simulate(net1, times, samples)\n",
    "print(result[\"out\"])"
   ]
  },
  {
   "cell_type": "code",
   "execution_count": null,
   "metadata": {},
   "outputs": [],
   "source": []
  }
 ],
 "metadata": {
  "kernelspec": {
   "display_name": ".venv",
   "language": "python",
   "name": "python3"
  },
  "language_info": {
   "codemirror_mode": {
    "name": "ipython",
    "version": 3
   },
   "file_extension": ".py",
   "mimetype": "text/x-python",
   "name": "python",
   "nbconvert_exporter": "python",
   "pygments_lexer": "ipython3",
   "version": "3.10.12"
  },
  "orig_nbformat": 4
 },
 "nbformat": 4,
 "nbformat_minor": 2
}
