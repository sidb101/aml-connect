{
 "cells": [
  {
   "cell_type": "code",
   "execution_count": 1,
   "metadata": {},
   "outputs": [],
   "source": [
    "# %pip install aspinity-0.7.2-cp38-abi3-manylinux_2_17_x86_64.manylinux2014_x86_64.whl"
   ]
  },
  {
   "cell_type": "code",
   "execution_count": 2,
   "metadata": {},
   "outputs": [],
   "source": [
    "import aspinity\n",
    "import json\n",
    "import os\n",
    "import numpy as np\n",
    "import soundfile as sf\n",
    "import importlib"
   ]
  },
  {
   "cell_type": "code",
   "execution_count": 3,
   "metadata": {},
   "outputs": [],
   "source": [
    "network_json = None\n",
    "\n",
    "# Navigate to test_resources\n",
    "os.chdir(os.path.join(os.getcwd(), os.pardir, 'test_resources'))\n",
    "with open('test_network_all_with_hidden_params.json', 'r') as f:\n",
    "    network_json = json.load(f)\n",
    "    \n",
    "terminal1_json = network_json['elements'][0]\n",
    "acdiff_json = network_json['elements'][1]\n",
    "asymmetric_integrator_json = network_json['elements'][2]\n",
    "comparator_json = network_json['elements'][3]\n",
    "filter_json = network_json['elements'][4]\n",
    "filter_bank_json = network_json['elements'][5]\n",
    "gain_opamp_json = network_json['elements'][6]\n",
    "look_up_table_json = network_json['elements'][7]\n",
    "delay_flip_flop_json = network_json['elements'][8]\n",
    "multiplier_json = network_json['elements'][9]\n",
    "mux2_json = network_json['elements'][10]\n",
    "neural_net_json = network_json['elements'][11]\n",
    "peak_detector_json = network_json['elements'][12]\n",
    "pga_json = network_json['elements'][13]\n",
    "synthesized_filter_json = network_json['elements'][14]\n",
    "terminal2_json = network_json['elements'][15]"
   ]
  },
  {
   "cell_type": "code",
   "execution_count": 4,
   "metadata": {},
   "outputs": [
    {
     "data": {
      "text/plain": [
       "{'element_type': 'Terminal',\n",
       " 'terminals': {'net': 'one'},\n",
       " 'parameters': {'is_input': True,\n",
       "  'is_output': False,\n",
       "  'hardware_pin': 'A0',\n",
       "  'is_ac_coupled': False,\n",
       "  'is_extern': False}}"
      ]
     },
     "execution_count": 4,
     "metadata": {},
     "output_type": "execute_result"
    }
   ],
   "source": [
    "import wrapper_components\n",
    "\n",
    "term1 = wrapper_components.Terminal(terminal1_json)\n",
    "term1.as_dict()\n"
   ]
  },
  {
   "cell_type": "code",
   "execution_count": 5,
   "metadata": {},
   "outputs": [
    {
     "data": {
      "text/plain": [
       "{'element_type': 'AcDiff',\n",
       " 'terminals': {'pos': 'one', 'neg': None, 'output': 'two'},\n",
       " 'parameters': {'bias': -1.34, 'gain': 9.0}}"
      ]
     },
     "execution_count": 5,
     "metadata": {},
     "output_type": "execute_result"
    }
   ],
   "source": [
    "acdiff = wrapper_components.AcDiff(acdiff_json)\n",
    "acdiff.as_dict()"
   ]
  },
  {
   "cell_type": "code",
   "execution_count": 6,
   "metadata": {},
   "outputs": [
    {
     "data": {
      "text/plain": [
       "{'element_type': 'AsymmetricIntegrator',\n",
       " 'terminals': {'input': 'two', 'output': 'three'},\n",
       " 'parameters': {'down': 10.0, 'up': 100.0, 'up_down_type': 'UpDownType.Rate'}}"
      ]
     },
     "execution_count": 6,
     "metadata": {},
     "output_type": "execute_result"
    }
   ],
   "source": [
    "asymmetric_integrator = wrapper_components.AsymmetricIntegrator(asymmetric_integrator_json)\n",
    "asymmetric_integrator.as_dict()"
   ]
  },
  {
   "cell_type": "code",
   "execution_count": 7,
   "metadata": {},
   "outputs": [
    {
     "data": {
      "text/plain": [
       "{'element_type': 'Comparator',\n",
       " 'terminals': {'positive': 'three',\n",
       "  'negative': None,\n",
       "  'vdd': None,\n",
       "  'output': 'fourth'},\n",
       " 'parameters': {'threshold': 0.1}}"
      ]
     },
     "execution_count": 7,
     "metadata": {},
     "output_type": "execute_result"
    }
   ],
   "source": [
    "comparator = wrapper_components.Comparator(comparator_json)\n",
    "comparator.as_dict()"
   ]
  },
  {
   "cell_type": "code",
   "execution_count": 8,
   "metadata": {},
   "outputs": [
    {
     "data": {
      "text/plain": [
       "{'element_type': 'Filter',\n",
       " 'terminals': {'input': 'fourth', 'output': 'fourth2'},\n",
       " 'parameters': {'characteristic_frequency': 1000.0,\n",
       "  'quality_factor': 2.0,\n",
       "  'filter_type': FilterType.lpf2}}"
      ]
     },
     "execution_count": 8,
     "metadata": {},
     "output_type": "execute_result"
    }
   ],
   "source": [
    "filter = wrapper_components.Filter(filter_json)\n",
    "filter.as_dict()"
   ]
  },
  {
   "cell_type": "code",
   "execution_count": 9,
   "metadata": {},
   "outputs": [
    {
     "data": {
      "text/plain": [
       "{'element_type': 'Filterbank',\n",
       " 'terminals': {'input': 'fourth',\n",
       "  'out_0': 'fifth',\n",
       "  'out_1': None,\n",
       "  'out_2': None,\n",
       "  'out_3': None,\n",
       "  'out_4': None,\n",
       "  'out_5': None,\n",
       "  'out_6': None,\n",
       "  'out_7': 'sixth'},\n",
       " 'parameters': {'band_frequencies': [100.0, 200.0, 500.0, 1000.0],\n",
       "  'quality_factor': [1.0, 2.0, 1.0, 1.0],\n",
       "  'attack_rates': [],\n",
       "  'decay_rates': []}}"
      ]
     },
     "execution_count": 9,
     "metadata": {},
     "output_type": "execute_result"
    }
   ],
   "source": [
    "filter_bank = wrapper_components.Filterbank(filter_bank_json)\n",
    "filter_bank.as_dict()"
   ]
  },
  {
   "cell_type": "code",
   "execution_count": 10,
   "metadata": {},
   "outputs": [
    {
     "data": {
      "text/plain": [
       "{'element_type': 'GainOpamp',\n",
       " 'terminals': {'input': 'fifth', 'output': 'eighth'},\n",
       " 'parameters': {'feedback_cap_count': 2,\n",
       "  'gain_mode': 'GainOpampMode.Inverting4x'}}"
      ]
     },
     "execution_count": 10,
     "metadata": {},
     "output_type": "execute_result"
    }
   ],
   "source": [
    "gain_opamp = wrapper_components.GainOpamp(gain_opamp_json)\n",
    "gain_opamp.as_dict()"
   ]
  },
  {
   "cell_type": "code",
   "execution_count": 11,
   "metadata": {},
   "outputs": [
    {
     "data": {
      "text/plain": [
       "{'element_type': 'LookupTable',\n",
       " 'terminals': {'A': 'eigth', 'B': None, 'C': None, 'output': 'ninth'},\n",
       " 'parameters': {'expression': '(A and not B) or C'}}"
      ]
     },
     "execution_count": 11,
     "metadata": {},
     "output_type": "execute_result"
    }
   ],
   "source": [
    "look_up_table = wrapper_components.LookupTable(look_up_table_json)\n",
    "look_up_table.as_dict()"
   ]
  },
  {
   "cell_type": "code",
   "execution_count": 12,
   "metadata": {},
   "outputs": [
    {
     "data": {
      "text/plain": [
       "{'element_type': 'DelayFlipFlop',\n",
       " 'terminals': {'input': 'ninth',\n",
       "  'clock': None,\n",
       "  'reset': None,\n",
       "  'output': 'tenth'}}"
      ]
     },
     "execution_count": 12,
     "metadata": {},
     "output_type": "execute_result"
    }
   ],
   "source": [
    "delay_flip_flop = wrapper_components.DelayFlipFlop(delay_flip_flop_json)\n",
    "delay_flip_flop.as_dict()"
   ]
  },
  {
   "cell_type": "code",
   "execution_count": 13,
   "metadata": {},
   "outputs": [
    {
     "data": {
      "text/plain": [
       "{'element_type': 'Multiplier',\n",
       " 'terminals': {'x_pos': 'tenth',\n",
       "  'x_neg': None,\n",
       "  'y_pos': None,\n",
       "  'y_neg': None,\n",
       "  'output': 'eleventh'},\n",
       " 'parameters': {'slope': 1.0}}"
      ]
     },
     "execution_count": 13,
     "metadata": {},
     "output_type": "execute_result"
    }
   ],
   "source": [
    "multiplier = wrapper_components.Multiplier(multiplier_json)\n",
    "multiplier.as_dict()"
   ]
  },
  {
   "cell_type": "code",
   "execution_count": 14,
   "metadata": {},
   "outputs": [
    {
     "data": {
      "text/plain": [
       "{'element_type': 'Mux2',\n",
       " 'terminals': {'in0': 'eleventh',\n",
       "  'in1': 'null',\n",
       "  'select': None,\n",
       "  'output': 'twelveth'}}"
      ]
     },
     "execution_count": 14,
     "metadata": {},
     "output_type": "execute_result"
    }
   ],
   "source": [
    "mux2 = wrapper_components.Mux2(mux2_json)\n",
    "mux2.as_dict()"
   ]
  },
  {
   "cell_type": "code",
   "execution_count": 15,
   "metadata": {},
   "outputs": [
    {
     "data": {
      "text/plain": [
       "{'element_type': 'NeuralNet',\n",
       " 'terminals': {'pos_0': 'twelveth',\n",
       "  'pos_1': None,\n",
       "  'pos_2': None,\n",
       "  'pos_3': None,\n",
       "  'pos_4': None,\n",
       "  'pos_5': None,\n",
       "  'pos_6': None,\n",
       "  'pos_7': None,\n",
       "  'neg_0': None,\n",
       "  'neg_1': None,\n",
       "  'neg_2': None,\n",
       "  'neg_3': None,\n",
       "  'neg_4': None,\n",
       "  'neg_5': None,\n",
       "  'neg_6': None,\n",
       "  'neg_7': None,\n",
       "  'out_0': 'thirteenth',\n",
       "  'out_1': None,\n",
       "  'out_2': None,\n",
       "  'out_3': None,\n",
       "  'out_4': None,\n",
       "  'out_5': None,\n",
       "  'out_6': None,\n",
       "  'out_7': None},\n",
       " 'parameters': {'weights': [0.1, 0.2, 0.3, 0.4],\n",
       "  'biases': [0.1, 0.2, 0.3, 0.4],\n",
       "  'activation_function': [ActivationFunction.Tanh,\n",
       "   ActivationFunction.Sigmoid,\n",
       "   ActivationFunction.ReLU,\n",
       "   ActivationFunction.Linear]}}"
      ]
     },
     "execution_count": 15,
     "metadata": {},
     "output_type": "execute_result"
    }
   ],
   "source": [
    "neural_net = wrapper_components.NeuralNet(neural_net_json)\n",
    "neural_net.as_dict()"
   ]
  },
  {
   "cell_type": "code",
   "execution_count": 16,
   "metadata": {},
   "outputs": [
    {
     "data": {
      "text/plain": [
       "{'element_type': 'PeakDetector',\n",
       " 'terminals': {'input': 'thirteenth', 'output': 'fourteenth'},\n",
       " 'parameters': {'atk': 1000.0,\n",
       "  'dec': 10.0,\n",
       "  'model_version': 'ModelVersion.FirstOrder'}}"
      ]
     },
     "execution_count": 16,
     "metadata": {},
     "output_type": "execute_result"
    }
   ],
   "source": [
    "peak_detector = wrapper_components.PeakDetector(peak_detector_json)\n",
    "peak_detector.as_dict()"
   ]
  },
  {
   "cell_type": "code",
   "execution_count": 17,
   "metadata": {},
   "outputs": [
    {
     "data": {
      "text/plain": [
       "{'element_type': 'PGA',\n",
       " 'terminals': {'pos1': 'thirteenth',\n",
       "  'neg1': None,\n",
       "  'pos2': None,\n",
       "  'reference': None,\n",
       "  'output': 'fifteenth'},\n",
       " 'parameters': {'Av1': 2.0, 'Av2': 0.5}}"
      ]
     },
     "execution_count": 17,
     "metadata": {},
     "output_type": "execute_result"
    }
   ],
   "source": [
    "pga = wrapper_components.PGA(pga_json)\n",
    "pga.as_dict()"
   ]
  },
  {
   "cell_type": "code",
   "execution_count": 18,
   "metadata": {},
   "outputs": [
    {
     "name": "stdout",
     "output_type": "stream",
     "text": [
      "{'type_name': 'SynthesizedFilter', 'element_type_params': {'SynthesizedFilter': {'coefficients': [[0.0, 0.2, 0.3, 1.2]]}}, 'terminals': [{'type_name': 'input', 'node_name': 'fifteenth'}, {'type_name': 'output', 'node_name': 'sixteenth'}]}\n"
     ]
    },
    {
     "data": {
      "text/plain": [
       "{'element_type': 'SynthesizedFilter',\n",
       " 'terminals': {'input': 'fifteenth', 'output': 'sixteenth'},\n",
       " 'parameters': {'coefficients': [[0.0, 0.2, 0.3, 1.2]]}}"
      ]
     },
     "execution_count": 18,
     "metadata": {},
     "output_type": "execute_result"
    }
   ],
   "source": [
    "print(synthesized_filter_json)\n",
    "synthesized_filter = wrapper_components.SynthesizedFilter(synthesized_filter_json)\n",
    "synthesized_filter.as_dict()"
   ]
  },
  {
   "cell_type": "code",
   "execution_count": 19,
   "metadata": {},
   "outputs": [
    {
     "data": {
      "text/plain": [
       "{'element_type': 'Terminal',\n",
       " 'terminals': {'net': 'sixteenth'},\n",
       " 'parameters': {'is_input': False,\n",
       "  'is_output': True,\n",
       "  'hardware_pin': 'A1',\n",
       "  'is_ac_coupled': False,\n",
       "  'is_extern': False}}"
      ]
     },
     "execution_count": 19,
     "metadata": {},
     "output_type": "execute_result"
    }
   ],
   "source": [
    "term2 = wrapper_components.Terminal(terminal2_json)\n",
    "term2.as_dict()"
   ]
  },
  {
   "cell_type": "code",
   "execution_count": 20,
   "metadata": {},
   "outputs": [],
   "source": [
    "import wrapper_network"
   ]
  },
  {
   "cell_type": "code",
   "execution_count": 21,
   "metadata": {},
   "outputs": [
    {
     "data": {
      "text/plain": [
       "aspinity.native.ReleaseNetwork"
      ]
     },
     "execution_count": 21,
     "metadata": {},
     "output_type": "execute_result"
    }
   ],
   "source": [
    "net1 = wrapper_network.Network(network_json)\n",
    "type(net1.orig_network)"
   ]
  },
  {
   "cell_type": "code",
   "execution_count": 22,
   "metadata": {},
   "outputs": [
    {
     "data": {
      "text/plain": [
       "{'element_imports': ['Terminal',\n",
       "  'AcDiff',\n",
       "  'AsymmetricIntegrator',\n",
       "  'Comparator',\n",
       "  'Filter',\n",
       "  'Filterbank',\n",
       "  'GainOpamp',\n",
       "  'LookupTable',\n",
       "  'DelayFlipFlop',\n",
       "  'Multiplier',\n",
       "  'Mux2',\n",
       "  'NeuralNet',\n",
       "  'PeakDetector',\n",
       "  'PGA',\n",
       "  'SynthesizedFilter',\n",
       "  'Terminal'],\n",
       " 'elements': [{'element_type': 'Terminal',\n",
       "   'terminals': {'net': 'one'},\n",
       "   'parameters': {'is_input': True,\n",
       "    'is_output': False,\n",
       "    'hardware_pin': 'A0',\n",
       "    'is_ac_coupled': False,\n",
       "    'is_extern': False}},\n",
       "  {'element_type': 'AcDiff',\n",
       "   'terminals': {'pos': 'one', 'neg': None, 'output': 'two'},\n",
       "   'parameters': {'bias': -1.34, 'gain': 9.0}},\n",
       "  {'element_type': 'AsymmetricIntegrator',\n",
       "   'terminals': {'input': 'two', 'output': 'three'},\n",
       "   'parameters': {'down': 10.0,\n",
       "    'up': 100.0,\n",
       "    'up_down_type': 'UpDownType.Rate'}},\n",
       "  {'element_type': 'Comparator',\n",
       "   'terminals': {'positive': 'three',\n",
       "    'negative': None,\n",
       "    'vdd': None,\n",
       "    'output': 'fourth'},\n",
       "   'parameters': {'threshold': 0.1}},\n",
       "  {'element_type': 'Filter',\n",
       "   'terminals': {'input': 'fourth', 'output': 'fourth2'},\n",
       "   'parameters': {'characteristic_frequency': 1000.0,\n",
       "    'quality_factor': 2.0,\n",
       "    'filter_type': FilterType.lpf2}},\n",
       "  {'element_type': 'Filterbank',\n",
       "   'terminals': {'input': 'fourth',\n",
       "    'out_0': 'fifth',\n",
       "    'out_1': None,\n",
       "    'out_2': None,\n",
       "    'out_3': None,\n",
       "    'out_4': None,\n",
       "    'out_5': None,\n",
       "    'out_6': None,\n",
       "    'out_7': 'sixth'},\n",
       "   'parameters': {'band_frequencies': [100.0, 200.0, 500.0, 1000.0],\n",
       "    'quality_factor': [1.0, 2.0, 1.0, 1.0],\n",
       "    'attack_rates': [],\n",
       "    'decay_rates': []}},\n",
       "  {'element_type': 'GainOpamp',\n",
       "   'terminals': {'input': 'fifth', 'output': 'eighth'},\n",
       "   'parameters': {'feedback_cap_count': 2,\n",
       "    'gain_mode': 'GainOpampMode.Inverting4x'}},\n",
       "  {'element_type': 'LookupTable',\n",
       "   'terminals': {'A': 'eigth', 'B': None, 'C': None, 'output': 'ninth'},\n",
       "   'parameters': {'expression': '(A and not B) or C'}},\n",
       "  {'element_type': 'DelayFlipFlop',\n",
       "   'terminals': {'input': 'ninth',\n",
       "    'clock': None,\n",
       "    'reset': None,\n",
       "    'output': 'tenth'}},\n",
       "  {'element_type': 'Multiplier',\n",
       "   'terminals': {'x_pos': 'tenth',\n",
       "    'x_neg': None,\n",
       "    'y_pos': None,\n",
       "    'y_neg': None,\n",
       "    'output': 'eleventh'},\n",
       "   'parameters': {'slope': 1.0}},\n",
       "  {'element_type': 'Mux2',\n",
       "   'terminals': {'in0': 'eleventh',\n",
       "    'in1': 'null',\n",
       "    'select': None,\n",
       "    'output': 'twelveth'}},\n",
       "  {'element_type': 'NeuralNet',\n",
       "   'terminals': {'pos_0': 'twelveth',\n",
       "    'pos_1': None,\n",
       "    'pos_2': None,\n",
       "    'pos_3': None,\n",
       "    'pos_4': None,\n",
       "    'pos_5': None,\n",
       "    'pos_6': None,\n",
       "    'pos_7': None,\n",
       "    'neg_0': None,\n",
       "    'neg_1': None,\n",
       "    'neg_2': None,\n",
       "    'neg_3': None,\n",
       "    'neg_4': None,\n",
       "    'neg_5': None,\n",
       "    'neg_6': None,\n",
       "    'neg_7': None,\n",
       "    'out_0': 'thirteenth',\n",
       "    'out_1': None,\n",
       "    'out_2': None,\n",
       "    'out_3': None,\n",
       "    'out_4': None,\n",
       "    'out_5': None,\n",
       "    'out_6': None,\n",
       "    'out_7': None},\n",
       "   'parameters': {'weights': [0.1, 0.2, 0.3, 0.4],\n",
       "    'biases': [0.1, 0.2, 0.3, 0.4],\n",
       "    'activation_function': [ActivationFunction.Tanh,\n",
       "     ActivationFunction.Sigmoid,\n",
       "     ActivationFunction.ReLU,\n",
       "     ActivationFunction.Linear]}},\n",
       "  {'element_type': 'PeakDetector',\n",
       "   'terminals': {'input': 'thirteenth', 'output': 'fourteenth'},\n",
       "   'parameters': {'atk': 1000.0,\n",
       "    'dec': 10.0,\n",
       "    'model_version': 'ModelVersion.FirstOrder'}},\n",
       "  {'element_type': 'PGA',\n",
       "   'terminals': {'pos1': 'thirteenth',\n",
       "    'neg1': None,\n",
       "    'pos2': None,\n",
       "    'reference': None,\n",
       "    'output': 'fifteenth'},\n",
       "   'parameters': {'Av1': 2.0, 'Av2': 0.5}},\n",
       "  {'element_type': 'SynthesizedFilter',\n",
       "   'terminals': {'input': 'fifteenth', 'output': 'sixteenth'},\n",
       "   'parameters': {'coefficients': [[0.0, 0.2, 0.3, 1.2]]}},\n",
       "  {'element_type': 'Terminal',\n",
       "   'terminals': {'net': 'sixteenth'},\n",
       "   'parameters': {'is_input': False,\n",
       "    'is_output': True,\n",
       "    'hardware_pin': 'A1',\n",
       "    'is_ac_coupled': False,\n",
       "    'is_extern': False}}]}"
      ]
     },
     "execution_count": 22,
     "metadata": {},
     "output_type": "execute_result"
    }
   ],
   "source": [
    "net1.export_context()"
   ]
  },
  {
   "cell_type": "code",
   "execution_count": 23,
   "metadata": {},
   "outputs": [
    {
     "ename": "TypeError",
     "evalue": "Network.export_sourcecode() missing 1 required positional argument: 'wavfile_path'",
     "output_type": "error",
     "traceback": [
      "\u001b[1;31m---------------------------------------------------------------------------\u001b[0m",
      "\u001b[1;31mTypeError\u001b[0m                                 Traceback (most recent call last)",
      "\u001b[1;32mc:\\Users\\henkh\\Desktop\\Studio\\structurizr\\aml-connect\\aml_simulator_pywrapper\\test_json_to_objects.ipynb Cell 23\u001b[0m line \u001b[0;36m1\n\u001b[1;32m----> <a href='vscode-notebook-cell:/c%3A/Users/henkh/Desktop/Studio/structurizr/aml-connect/aml_simulator_pywrapper/test_json_to_objects.ipynb#X30sZmlsZQ%3D%3D?line=0'>1</a>\u001b[0m net1\u001b[39m.\u001b[39;49mexport_sourcecode()\n",
      "\u001b[1;31mTypeError\u001b[0m: Network.export_sourcecode() missing 1 required positional argument: 'wavfile_path'"
     ]
    }
   ],
   "source": [
    "net1.export_sourcecode()"
   ]
  },
  {
   "cell_type": "code",
   "execution_count": null,
   "metadata": {},
   "outputs": [],
   "source": [
    "# net1.orig_network.input_terminal_names, net1.orig_network.output_terminal_names, net1.orig_network.children"
   ]
  },
  {
   "cell_type": "code",
   "execution_count": null,
   "metadata": {},
   "outputs": [],
   "source": [
    "# wav_file = '/home/sbhatna2/Music/rising-chirp.wav'\n",
    "# times, samples = wrapper_network.WavFileManager.load_wav(wav_file)"
   ]
  },
  {
   "cell_type": "code",
   "execution_count": null,
   "metadata": {},
   "outputs": [],
   "source": [
    "# result = aspinity.simulate(net1.orig_network, times, samples)\n",
    "# print(*result.items(), sep = '\\n')\n",
    "# print(result['filter_out'].shape)"
   ]
  }
 ],
 "metadata": {
  "kernelspec": {
   "display_name": ".venv",
   "language": "python",
   "name": "python3"
  },
  "language_info": {
   "codemirror_mode": {
    "name": "ipython",
    "version": 3
   },
   "file_extension": ".py",
   "mimetype": "text/x-python",
   "name": "python",
   "nbconvert_exporter": "python",
   "pygments_lexer": "ipython3",
   "version": "3.10.11"
  },
  "orig_nbformat": 4
 },
 "nbformat": 4,
 "nbformat_minor": 2
}
