{
 "cells": [
  {
   "cell_type": "code",
   "execution_count": null,
   "metadata": {},
   "outputs": [],
   "source": [
    "import aspinity"
   ]
  },
  {
   "cell_type": "code",
   "execution_count": null,
   "metadata": {},
   "outputs": [],
   "source": [
    "from aspinity import (\n",
    "    Filter,\n",
    "    FilterType,\n",
    "    Network,\n",
    "    Terminal\n",
    ")\n",
    "\n",
    "def test_network(frequency):\n",
    "    network = Network()\n",
    "    network.add(\n",
    "        Terminal(net=\"in\", is_input=True),\n",
    "        Filter(\n",
    "            input=\"in\",\n",
    "            output=\"filter_out\",\n",
    "            characteristic_frequency=frequency,\n",
    "            filter_type=FilterType.bpf2,\n",
    "            quality_factor=1.0,\n",
    "        ),\n",
    "        Terminal(net=\"out\", is_output=True),\n",
    "    )\n",
    "    return network\n",
    "\n",
    "net1 = test_network(1000)"
   ]
  },
  {
   "cell_type": "code",
   "execution_count": null,
   "metadata": {},
   "outputs": [],
   "source": [
    "import wrapper_network\n",
    "wav_file = '/home/sbhatna2/Music/rising-chirp.wav'\n",
    "times, samples = wrapper_network.WavFileManager.load_wav(wav_file)"
   ]
  },
  {
   "cell_type": "code",
   "execution_count": null,
   "metadata": {},
   "outputs": [],
   "source": [
    "result = aspinity.simulate(net1, times, samples)\n",
    "print(*result.items(), sep = '\\n')\n",
    "# print(result['filter_out'].shape)"
   ]
  },
  {
   "cell_type": "code",
   "execution_count": null,
   "metadata": {},
   "outputs": [],
   "source": [
    "aspinity.FilterType.bpf2.__class__.__module__"
   ]
  },
  {
   "cell_type": "code",
   "execution_count": null,
   "metadata": {},
   "outputs": [],
   "source": [
    "aspinity.AcDiff.__module__"
   ]
  },
  {
   "cell_type": "code",
   "execution_count": null,
   "metadata": {},
   "outputs": [],
   "source": [
    "type(aspinity.FilterType.bpf2)"
   ]
  },
  {
   "cell_type": "code",
   "execution_count": null,
   "metadata": {},
   "outputs": [],
   "source": []
  }
 ],
 "metadata": {
  "kernelspec": {
   "display_name": ".venv",
   "language": "python",
   "name": "python3"
  },
  "language_info": {
   "codemirror_mode": {
    "name": "ipython",
    "version": 3
   },
   "file_extension": ".py",
   "mimetype": "text/x-python",
   "name": "python",
   "nbconvert_exporter": "python",
   "pygments_lexer": "ipython3",
   "version": "3.10.12"
  },
  "orig_nbformat": 4
 },
 "nbformat": 4,
 "nbformat_minor": 2
}
