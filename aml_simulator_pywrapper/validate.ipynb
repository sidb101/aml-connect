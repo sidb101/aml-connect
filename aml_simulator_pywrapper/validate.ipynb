{
 "cells": [
  {
   "cell_type": "code",
   "execution_count": 1,
   "metadata": {},
   "outputs": [],
   "source": [
    "import aspinity"
   ]
  },
  {
   "cell_type": "code",
   "execution_count": 2,
   "metadata": {},
   "outputs": [],
   "source": [
    "from aspinity import (\n",
    "    Filter,\n",
    "    FilterType,\n",
    "    Network,\n",
    "    Terminal\n",
    ")\n",
    "\n",
    "def test_network(frequency):\n",
    "    network = Network()\n",
    "    network.add(\n",
    "        Terminal(net=\"in\", is_input=True),\n",
    "        Filter(\n",
    "            input=\"in\",\n",
    "            output=\"filter_out\",\n",
    "            characteristic_frequency=frequency,\n",
    "            filter_type=FilterType.bpf2,\n",
    "            quality_factor=1.0,\n",
    "        ),\n",
    "        Terminal(net=\"out\", is_output=True),\n",
    "    )\n",
    "    return network\n",
    "\n",
    "net1 = test_network(1000)"
   ]
  },
  {
   "cell_type": "code",
   "execution_count": 3,
   "metadata": {},
   "outputs": [],
   "source": [
    "import wrapper_network\n",
    "wav_file = '/home/sbhatna2/Music/rising-chirp.wav'\n",
    "times, samples = wrapper_network.WavFileManager.load_wav(wav_file)"
   ]
  },
  {
   "cell_type": "code",
   "execution_count": 4,
   "metadata": {},
   "outputs": [
    {
     "name": "stdout",
     "output_type": "stream",
     "text": [
      "('vdd', array([2.5, 2.5, 2.5, 2.5, 2.5]))\n",
      "('filter_out_hpf', array([0., 0., 0., 0., 0.]))\n",
      "('mid', array([0., 0., 0., 0., 0.]))\n",
      "('', array([0., 0., 0., ..., 0., 0., 0.]))\n",
      "('_lpf_pre_compress', array([0., 0., 0., 0., 0.]))\n",
      "('in', array([-0.07403564, -0.09246826, -0.0743103 , -0.05447388, -0.03656006]))\n",
      "('Gnd', array([0., 0., 0., ..., 0., 0., 0.]))\n",
      "('filter_out_pre_compress', array([0.03292748, 0.06586092, 0.0890397 , 0.09819746, 0.092224  ]))\n",
      "('filter_out_bpf', array([-0.06586092, -0.0890397 , -0.09819746, -0.092224  , -0.07059221]))\n",
      "('out', array([0., 0., 0., ..., 0., 0., 0.]))\n",
      "('filter_out', array([-0.00187511,  0.0317869 ,  0.05774371,  0.07115898,  0.07539194]))\n"
     ]
    }
   ],
   "source": [
    "result = aspinity.simulate(net1, times, samples)\n",
    "print(*result.items(), sep = '\\n')\n",
    "# print(result['filter_out'].shape)"
   ]
  },
  {
   "cell_type": "code",
   "execution_count": null,
   "metadata": {},
   "outputs": [],
   "source": []
  }
 ],
 "metadata": {
  "kernelspec": {
   "display_name": ".venv",
   "language": "python",
   "name": "python3"
  },
  "language_info": {
   "codemirror_mode": {
    "name": "ipython",
    "version": 3
   },
   "file_extension": ".py",
   "mimetype": "text/x-python",
   "name": "python",
   "nbconvert_exporter": "python",
   "pygments_lexer": "ipython3",
   "version": "3.10.12"
  },
  "orig_nbformat": 4
 },
 "nbformat": 4,
 "nbformat_minor": 2
}
